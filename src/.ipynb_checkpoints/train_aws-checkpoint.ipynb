{
 "cells": [
  {
   "cell_type": "code",
   "execution_count": 7,
   "metadata": {},
   "outputs": [],
   "source": [
    "import os\n",
    "import subprocess\n",
    "import sys"
   ]
  },
  {
   "cell_type": "code",
   "execution_count": null,
   "metadata": {},
   "outputs": [],
   "source": [
    "arg1 = sys.argv[1]\n",
    "arg2 = sys.argv[2]\n",
    "arg3 = sys.argv[3]\n",
    "arg4 = sys.argv[4]"
   ]
  },
  {
   "cell_type": "code",
   "execution_count": 6,
   "metadata": {},
   "outputs": [
    {
     "ename": "NameError",
     "evalue": "name 'arg1' is not defined",
     "output_type": "error",
     "traceback": [
      "\u001b[0;31m---------------------------------------------------------------------------\u001b[0m",
      "\u001b[0;31mNameError\u001b[0m                                 Traceback (most recent call last)",
      "\u001b[0;32m<ipython-input-6-ffe589236c7d>\u001b[0m in \u001b[0;36m<module>\u001b[0;34m\u001b[0m\n\u001b[0;32m----> 1\u001b[0;31m \u001b[0mos\u001b[0m\u001b[0;34m.\u001b[0m\u001b[0msystem\u001b[0m\u001b[0;34m(\u001b[0m\u001b[0;34m'python /home/ubuntu/DeepDeco/train_gaugan.py --name '\u001b[0m \u001b[0;34m+\u001b[0m \u001b[0marg1\u001b[0m  \u001b[0;34m+\u001b[0m \u001b[0;34m' --dataset_mode custom --label_dir '\u001b[0m \u001b[0;34m+\u001b[0m \u001b[0marg2\u001b[0m \u001b[0;34m+\u001b[0m \u001b[0;34m' --image_dir '\u001b[0m \u001b[0;34m+\u001b[0m \u001b[0marg3\u001b[0m \u001b[0;34m+\u001b[0m \u001b[0;34m' --label_nc '\u001b[0m \u001b[0;34m+\u001b[0m \u001b[0marg4\u001b[0m\u001b[0;34m)\u001b[0m\u001b[0;34m\u001b[0m\u001b[0;34m\u001b[0m\u001b[0m\n\u001b[0m",
      "\u001b[0;31mNameError\u001b[0m: name 'arg1' is not defined"
     ]
    }
   ],
   "source": [
    "subprocess.call(['python /home/ubuntu/DeepDeco/train_gaugan.py --name ', \n",
    "                 arg1, \n",
    "                 ' --dataset_mode custom --label_dir ', \n",
    "                 arg2, \n",
    "                 ' --image_dir ', \n",
    "                 arg3, \n",
    "                 ' --label_nc ', \n",
    "                 arg4])"
   ]
  },
  {
   "cell_type": "code",
   "execution_count": null,
   "metadata": {},
   "outputs": [],
   "source": []
  }
 ],
 "metadata": {
  "kernelspec": {
   "display_name": "Python 3",
   "language": "python",
   "name": "python3"
  },
  "language_info": {
   "codemirror_mode": {
    "name": "ipython",
    "version": 3
   },
   "file_extension": ".py",
   "mimetype": "text/x-python",
   "name": "python",
   "nbconvert_exporter": "python",
   "pygments_lexer": "ipython3",
   "version": "3.6.8"
  }
 },
 "nbformat": 4,
 "nbformat_minor": 2
}
